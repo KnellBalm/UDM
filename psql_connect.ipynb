{
 "cells": [
  {
   "cell_type": "code",
   "execution_count": 3,
   "id": "70513104",
   "metadata": {
    "ExecuteTime": {
     "end_time": "2023-02-09T07:07:32.128129Z",
     "start_time": "2023-02-09T07:07:32.123558Z"
    }
   },
   "outputs": [],
   "source": [
    "import pandas as pd\n",
    "import psycopg2\n",
    "from pprint import pprint"
   ]
  },
  {
   "cell_type": "code",
   "execution_count": 5,
   "id": "7a4e6515",
   "metadata": {
    "ExecuteTime": {
     "end_time": "2023-02-09T07:04:49.766760Z",
     "start_time": "2023-02-09T07:04:49.758386Z"
    }
   },
   "outputs": [],
   "source": [
    "psql_conn_dict = {\n",
    "    'host' : '192.168.106.6',\n",
    "    'port' : 5432,\n",
    "    'database' : 'suwon',\n",
    "    'user' : 'odp',\n",
    "    'passwd' : 'odp.123'\n",
    "}\n",
    "    \n",
    "def excute(self,query,args={}):\n",
    "    self.cursor.excute(query,args)\n",
    "    row = self.cursor.fetchall()\n",
    "    return row\n",
    "\n",
    "def commit(self):\n",
    "    self.cursor.commit()\n",
    "    \n",
    "class Databases():\n",
    "    def __init__(self):\n",
    "        self.db = psycopg2.connect(host=psql_conn_dict['host'],\n",
    "                                   port =psql_conn_dict['port'],\n",
    "                                   dbname = psql_conn_dict['suwon'],\n",
    "                                   user = psql_conn_dict['user'],\n",
    "                                   password= psql_conn_dict['passwd'])\n",
    "        self.cursor = db.cursor()\n",
    "    def __del__(self):\n",
    "        self.db.close()\n",
    "        self.cursor.close()\n",
    "\n",
    "    def execute(self,query,args={}):\n",
    "        self.cursor.execute(query,args)\n",
    "        row = self.cursor.fetchall()\n",
    "        return row\n",
    "\n",
    "    def commit(self):\n",
    "        self.cursor.commit()\n",
    "\n",
    "def insertDB(self,schema,table,colum,data):\n",
    "    sql = f\"INSERT INTO {schema}.{table}({colum}) VALUES ('{data}');\"\n",
    "    try:\n",
    "        self.cursor.execute(sql)\n",
    "        self.db.commit()\n",
    "    except Exception as e :\n",
    "        print(\" insert DB  \",e) \n",
    "        \n",
    "def readDB(self,schema,table,colum):\n",
    "    sql = f\" SELECT {colum} from {schema}.{table};\"\n",
    "    try:\n",
    "        self.cursor.execute(sql)\n",
    "        result = self.cursor.fetchall()\n",
    "    except Exception as e :\n",
    "        result = (\" read DB err\",e)\n",
    "    \n",
    "    return result\n",
    "\n",
    "def updateDB(self,schema,table,colum,value,condition):\n",
    "    sql = f\" UPDATE {schema}.{table} SET {colum}='{value}' WHERE {colum}='{condition} ;' \"\n",
    "    try :\n",
    "        self.cursor.execute(sql)\n",
    "        self.db.commit()\n",
    "    except Exception as e :\n",
    "        print(\" update DB err\",e)\n",
    "        \n",
    "def deleteDB(self,schema,table,condition):\n",
    "    sql = f\" delete from {schema}.{table} where {condition} ; \"\n",
    "    try :\n",
    "        self.cursor.execute(sql)\n",
    "        self.db.commit()\n",
    "    except Exception as e:\n",
    "        print( \"delete DB err\", e)"
   ]
  },
  {
   "cell_type": "code",
   "execution_count": 6,
   "id": "a6ba0a93",
   "metadata": {
    "ExecuteTime": {
     "end_time": "2023-02-09T07:08:12.718477Z",
     "start_time": "2023-02-09T07:08:12.691279Z"
    },
    "scrolled": true
   },
   "outputs": [
    {
     "name": "stdout",
     "output_type": "stream",
     "text": [
      "[('pg_catalog', 'pg_statistic', 'postgres', None, True, False, False, False), ('public', 'auto_collect_open_api', 'odp', None, False, False, True, False), ('pg_catalog', 'pg_foreign_table', 'postgres', None, True, False, False, False), ('pg_catalog', 'pg_authid', 'postgres', 'pg_global', True, False, False, False), ('public', 'want_data', 'odp', None, True, False, False, False), ('public', 'catalog_record', 'odp', None, True, False, False, False), ('public', 'catalog', 'odp', None, True, False, True, False), ('public', 'comments', 'odp', None, True, False, False, False), ('public', 'opinions', 'odp', None, True, False, False, False), ('pg_catalog', 'pg_user_mapping', 'postgres', None, True, False, False, False), ('pg_catalog', 'pg_subscription', 'postgres', 'pg_global', True, False, False, False), ('pg_catalog', 'pg_largeobject', 'postgres', None, True, False, False, False), ('pg_catalog', 'pg_type', 'postgres', None, True, False, False, False), ('pg_catalog', 'pg_attribute', 'postgres', None, True, False, False, False), ('pg_catalog', 'pg_proc', 'postgres', None, True, False, False, False), ('pg_catalog', 'pg_class', 'postgres', None, True, False, False, False), ('pg_catalog', 'pg_attrdef', 'postgres', None, True, False, False, False), ('pg_catalog', 'pg_constraint', 'postgres', None, True, False, False, False), ('pg_catalog', 'pg_inherits', 'postgres', None, True, False, False, False), ('pg_catalog', 'pg_index', 'postgres', None, True, False, False, False), ('pg_catalog', 'pg_operator', 'postgres', None, True, False, False, False), ('pg_catalog', 'pg_opfamily', 'postgres', None, True, False, False, False), ('pg_catalog', 'pg_opclass', 'postgres', None, True, False, False, False), ('pg_catalog', 'pg_am', 'postgres', None, True, False, False, False), ('pg_catalog', 'pg_amop', 'postgres', None, True, False, False, False), ('pg_catalog', 'pg_amproc', 'postgres', None, True, False, False, False), ('pg_catalog', 'pg_language', 'postgres', None, True, False, False, False), ('pg_catalog', 'pg_largeobject_metadata', 'postgres', None, True, False, False, False), ('pg_catalog', 'pg_aggregate', 'postgres', None, True, False, False, False), ('pg_catalog', 'pg_statistic_ext', 'postgres', None, True, False, False, False), ('pg_catalog', 'pg_rewrite', 'postgres', None, True, False, False, False), ('pg_catalog', 'pg_trigger', 'postgres', None, True, False, False, False), ('pg_catalog', 'pg_event_trigger', 'postgres', None, True, False, False, False), ('pg_catalog', 'pg_description', 'postgres', None, True, False, False, False), ('pg_catalog', 'pg_cast', 'postgres', None, True, False, False, False), ('pg_catalog', 'pg_enum', 'postgres', None, True, False, False, False), ('pg_catalog', 'pg_namespace', 'postgres', None, True, False, False, False), ('pg_catalog', 'pg_conversion', 'postgres', None, True, False, False, False), ('pg_catalog', 'pg_depend', 'postgres', None, True, False, False, False), ('pg_catalog', 'pg_database', 'postgres', 'pg_global', True, False, False, False), ('pg_catalog', 'pg_db_role_setting', 'postgres', 'pg_global', True, False, False, False), ('pg_catalog', 'pg_tablespace', 'postgres', 'pg_global', True, False, False, False), ('public', 'data_service', 'odp', None, True, False, True, False), ('pg_catalog', 'pg_pltemplate', 'postgres', 'pg_global', True, False, False, False), ('pg_catalog', 'pg_auth_members', 'postgres', 'pg_global', True, False, False, False), ('pg_catalog', 'pg_shdepend', 'postgres', 'pg_global', True, False, False, False), ('pg_catalog', 'pg_shdescription', 'postgres', 'pg_global', True, False, False, False), ('pg_catalog', 'pg_ts_config', 'postgres', None, True, False, False, False), ('pg_catalog', 'pg_ts_config_map', 'postgres', None, True, False, False, False), ('pg_catalog', 'pg_ts_dict', 'postgres', None, True, False, False, False), ('pg_catalog', 'pg_ts_parser', 'postgres', None, True, False, False, False), ('pg_catalog', 'pg_ts_template', 'postgres', None, True, False, False, False), ('pg_catalog', 'pg_extension', 'postgres', None, True, False, False, False), ('pg_catalog', 'pg_foreign_data_wrapper', 'postgres', None, True, False, False, False), ('pg_catalog', 'pg_foreign_server', 'postgres', None, True, False, False, False), ('pg_catalog', 'pg_policy', 'postgres', None, True, False, False, False), ('pg_catalog', 'pg_replication_origin', 'postgres', 'pg_global', True, False, False, False), ('pg_catalog', 'pg_default_acl', 'postgres', None, True, False, False, False), ('pg_catalog', 'pg_init_privs', 'postgres', None, True, False, False, False), ('pg_catalog', 'pg_seclabel', 'postgres', None, True, False, False, False), ('pg_catalog', 'pg_shseclabel', 'postgres', 'pg_global', True, False, False, False), ('pg_catalog', 'pg_collation', 'postgres', None, True, False, False, False), ('pg_catalog', 'pg_partitioned_table', 'postgres', None, True, False, False, False), ('pg_catalog', 'pg_range', 'postgres', None, True, False, False, False), ('pg_catalog', 'pg_transform', 'postgres', None, True, False, False, False), ('pg_catalog', 'pg_sequence', 'postgres', None, True, False, False, False), ('pg_catalog', 'pg_publication', 'postgres', None, True, False, False, False), ('pg_catalog', 'pg_publication_rel', 'postgres', None, True, False, False, False), ('pg_catalog', 'pg_subscription_rel', 'postgres', None, True, False, False, False), ('information_schema', 'sql_features', 'postgres', None, False, False, False, False), ('information_schema', 'sql_implementation_info', 'postgres', None, False, False, False, False), ('information_schema', 'sql_languages', 'postgres', None, False, False, False, False), ('information_schema', 'sql_packages', 'postgres', None, False, False, False, False), ('information_schema', 'sql_parts', 'postgres', None, False, False, False, False), ('information_schema', 'sql_sizing', 'postgres', None, False, False, False, False), ('information_schema', 'sql_sizing_profiles', 'postgres', None, False, False, False, False), ('public', 'dataset', 'odp', None, True, False, True, False), ('public', 'organization', 'odp', None, True, False, False, False), ('public', 'organization_new', 'odp', None, True, False, False, False), ('public', 'organizations', 'odp', None, True, False, False, False), ('public', 'process_collect_record', 'odp', None, False, False, False, False), ('public', 'processor_status', 'odp', None, True, False, False, False), ('public', 'relation', 'odp', None, False, False, True, False), ('public', 'report_url', 'odp', None, False, False, False, False), ('public', 'standard_dictionary_x', 'odp', None, False, False, False, False), ('public', 'resource', 'odp', None, True, False, True, False), ('public', 'user2', 'odp', None, False, False, False, False), ('public', 'tenant_revision', 'odp', None, True, False, False, False), ('public', 'user_new', 'odp', None, True, False, False, False), ('public', 'concept', 'odp', None, True, False, True, False), ('public', 'approval', 'odp', None, True, False, True, False), ('public', 'approval_state', 'odp', None, False, False, True, False), ('public', 'access_rights', 'odp', None, False, False, True, False), ('public', 'auto_collect_db', 'odp', None, True, False, True, False), ('public', 'collect_record', 'odp', None, False, False, True, False), ('public', 'column', 'odp', None, False, False, True, False), ('public', 'concept_schema', 'odp', None, False, False, True, False), ('public', 'data_service_addition', 'odp', None, True, False, True, False), ('public', 'dataset_addition', 'odp', None, True, False, True, False), ('public', 'distribution', 'odp', None, False, False, True, False), ('public', 'keyword', 'odp', None, True, False, True, False), ('public', 'keyword_map', 'odp', None, False, False, True, False), ('public', 'relationship', 'odp', None, True, False, True, False), ('public', 'rights', 'odp', None, False, False, True, False), ('public', 'serves_dataset', 'odp', None, False, False, True, False), ('public', 'service', 'odp', None, False, False, True, False), ('public', 'temporal', 'odp', None, True, False, True, False), ('public', 'in_schema', 'odp', None, False, False, True, False), ('public', 'qualified_relation', 'odp', None, False, False, True, False), ('public', 'users', 'odp', None, True, False, True, False), ('public', 'role_user_mapping', 'odp', None, False, False, True, False), ('public', 'service_model_mapping', 'odp', None, False, False, True, False), ('public', 'NOT_USE_standard_word_dictionary_4transport', 'odp', None, True, False, False, False), ('public', 'access_record', 'odp', None, True, False, False, False), ('public', 'address_mapping', 'odp', None, False, False, False, False), ('public', 'attachement_file', 'odp', None, False, False, False, False), ('public', 'automatic_conversion_data_log', 'odp', None, False, False, False, False), ('public', 'automatic_conversion_execution_history', 'odp', None, False, False, False, False), ('public', 'automatic_conversion_rule', 'odp', None, True, False, False, False), ('public', 'automatic_conversion_target_access_info', 'odp', None, True, False, False, False), ('public', 'board_faq', 'odp', None, True, False, False, False), ('public', 'board_notice', 'odp', None, True, False, False, False), ('public', 'board_qna', 'odp', None, True, False, False, False), ('public', 'business_rule', 'odp', None, True, False, False, False), ('public', 'business_rule_parameter_mapping', 'odp', None, True, False, False, False), ('public', 'business_rule_parameter_value', 'odp', None, True, False, False, False), ('public', 'column_information', 'odp', None, True, False, False, False), ('public', 'common_code', 'odp', None, True, False, False, False), ('public', 'critical_to_quality', 'odp', None, True, False, False, False), ('public', 'data_quality_common_code', 'odp', None, True, False, False, False), ('public', 'data_quality_execution_history', 'odp', None, True, False, False, False), ('public', 'data_quality_index', 'odp', None, True, False, False, False), ('public', 'data_quality_target_database_connection', 'odp', None, True, False, False, False), ('public', 'data_quality_verification_result', 'odp', None, True, False, True, False), ('public', 'data_quality_verification_result_detail', 'odp', None, False, False, False, False), ('public', 'dataset_attachment_file', 'odp', None, False, False, False, False), ('public', 'domain_target_relation', 'odp', None, True, False, False, False), ('public', 'dong_cd_mapping', 'odp', None, False, False, False, False), ('public', 'dqi_ctq_br_targets', 'odp', None, True, False, False, False), ('public', 'dqm_history', 'odp', None, False, False, False, False), ('public', 'dqm_result_daily_summation', 'odp', None, False, False, False, False), ('public', 'dset_files', 'odp', None, True, False, False, False), ('public', 'dsets', 'odp', None, True, False, False, False), ('public', 'go_test', 'odp', None, False, False, False, False), ('public', 'institution_meta_collect_request', 'odp', None, True, False, False, False), ('public', 'institution_meta_column_information', 'odp', None, True, False, False, False), ('public', 'institution_meta_column_meta_collect_information', 'odp', None, False, False, False, False), ('public', 'institution_meta_connection_management', 'odp', None, True, False, False, False), ('public', 'institution_meta_database_meta_collect_information', 'odp', None, False, False, False, False), ('public', 'institution_meta_dbms_information', 'odp', None, True, False, False, False), ('public', 'institution_meta_info_system_management', 'odp', None, True, False, False, False), ('public', 'institution_meta_table_information', 'odp', None, True, False, False, False), ('public', 'institution_meta_user_management', 'odp', None, False, False, False, False), ('public', 'institution_meta_user_system_dbms_mapping', 'odp', None, True, False, False, False), ('public', 'keyword_popularity', 'odp', None, True, False, True, False), ('public', 'ldap_org', 'odp', None, True, False, False, False), ('public', 'masking_test', 'odp', None, False, False, False, False), ('public', 'menu', 'odp', None, True, False, True, False), ('public', 'not_yet_accepted_word_meta_data_mapping', 'odp', None, False, False, False, False), ('public', 'organization2', 'odp', None, True, False, False, False), ('public', 'platform_database_connection', 'odp', None, False, False, False, False), ('public', 'post_conv_testdata', 'odp', None, False, False, False, False), ('public', 'pre_conv_testdata', 'odp', None, False, False, False, False), ('public', 'process_manager', 'odp', None, True, False, False, False), ('public', 'role_menu_mapping', 'odp', None, False, False, True, False), ('public', 'role_temp_user_mapping', 'odp', None, False, False, False, False), ('public', 'sanxoo_cats', 'odp', None, False, False, False, False), ('public', 'sanxoo_go_narcisse_users', 'odp', None, True, False, False, False), ('public', 'standard_term_dictionary', 'odp', None, True, False, False, False), ('public', 'standard_term_dictionary_4transport', 'odp', None, True, False, False, False), ('public', 'standard_word_dictionary', 'odp', None, True, False, False, False), ('public', 'standard_word_dictionary_x', 'odp', None, True, False, False, False), ('public', 'system_information', 'odp', None, True, False, False, False), ('public', 'system_information_record', 'odp', None, True, False, False, False), ('public', 'temp_users', 'odp', None, True, False, False, False), ('public', 'testdata', 'odp', None, False, False, False, False), ('public', 'testdata2', 'odp', None, False, False, False, False), ('public', 'undefined_morpheme_log', 'odp', None, True, False, False, False), ('public', 'undefined_word_log', 'odp', None, True, False, False, False), ('public', 'updated_users', 'odp', None, True, False, False, False), ('public', 'user', 'odp', None, True, False, False, False), ('public', 'user_role', 'odp', None, True, False, True, False), ('public', 'webapp_batch_job', 'odp', None, False, False, False, False), ('public', 'word_domain', 'odp', None, True, False, False, False), ('public', 'word_domain_4transport', 'odp', None, True, False, False, False), ('public', 'auto_collect_osm_log', 'odp', None, False, False, False, False), ('public', 'collected_endpoint_url', 'odp', None, True, False, False, False), ('public', 'spatial_ref_sys', 'postgres', None, True, False, False, False), ('public', 'sigungu_poligon', 'odp', None, False, False, False, False), ('topology', 'topology', 'postgres', None, True, False, True, False), ('topology', 'layer', 'postgres', None, True, False, True, False), ('public', 'test_cos_line', 'odp', None, True, False, False, False), ('public', 'admin_code', 'odp', None, False, False, False, False), ('public', 'gu_boundary', 'odp', None, False, False, False, False), ('public', 'wordcloud', 'odp', None, False, False, False, False), ('public', 'seabit', 'odp', None, True, False, False, False), ('public', '토지_및_기후_기후', 'odp', None, False, False, False, False), ('public', '토지_및_기후_위치', 'odp', None, False, False, False, False), ('public', '토지_및_기후_토지', 'odp', None, False, False, False, False), ('public', '인구_연도별_인구현황', 'odp', None, False, False, False, False), ('public', '공무원_재정_기본인사운영', 'odp', None, False, False, False, False), ('public', '공무원·재정_기본인사운영', 'odp', None, False, False, False, False), ('public', '지역경제·농정_경지면적', 'odp', None, False, False, False, False), ('public', '보건·사회복지_장례식장', 'odp', None, False, False, False, False), ('public', '공공행정_교통사고 발생', 'odp', None, False, False, False, False), ('public', '문화·체육·교육_보디빌딩', 'odp', None, False, False, False, False), ('public', '공공행정_범죄발생 및 검거', 'odp', None, False, False, False, False), ('public', '지역경제·농정_시장', 'odp', None, False, False, False, False), ('public', '지역경제·농정_새마을금고', 'odp', None, False, False, False, False), ('public', '인구_연도별 인구현황', 'odp', None, False, False, False, False), ('public', '지역경제·농정_광업·제조업', 'odp', None, False, False, False, False), ('public', '토지 및 기후_위치', 'odp', None, False, False, False, False), ('public', '보건·사회복지_사회복지관', 'odp', None, False, False, False, False), ('public', '공공행정_소방장비', 'odp', None, False, False, False, False), ('public', '보건·사회복지_노숙인 자활시설', 'odp', None, False, False, False, False), ('public', '보건·사회복지_노인주거복지시설', 'odp', None, False, False, False, False), ('public', '건설·교통_하수도', 'odp', None, False, False, False, False), ('public', '지역경제·농정_새마을문고', 'odp', None, False, False, False, False), ('public', '도시·주택·공원_건축허가', 'odp', None, False, False, False, False), ('public', '환경·위생·청소_식품위생업소', 'odp', None, False, False, False, False), ('public', '건설·교통_교량', 'odp', None, False, False, False, False), ('public', '도시·주택·공원_근린공원', 'odp', None, False, False, False, False), ('public', '지역경제·농정_복합쇼핑몰', 'odp', None, False, False, False, False), ('public', '보건·사회복지_노인의료복지시설', 'odp', None, False, False, False, False), ('public', '도시·주택·공원_옥외광고사업자 현황', 'odp', None, False, False, False, False), ('public', '공공행정_우편관서', 'odp', None, False, False, False, False), ('public', '지역경제·농정_백화점', 'odp', None, False, False, False, False), ('public', '보건·사회복지_국민건강보험 적용인구', 'odp', None, False, False, False, False), ('public', '지역경제·농정_고압가스업소', 'odp', None, False, False, False, False), ('public', '지역경제·농정_상공회의소', 'odp', None, False, False, False, False), ('public', '보건·사회복지_노인복지관', 'odp', None, False, False, False, False), ('public', '공공행정_소방공무원 현황', 'odp', None, False, False, False, False), ('public', '지역경제·농정_시장현황', 'odp', None, False, False, False, False), ('public', '문화·체육·교육_체육시설현황', 'odp', None, False, False, False, False), ('public', '지역경제·농정_쇼핑센터', 'odp', None, False, False, False, False), ('public', '문화·체육·교육_골프연습장', 'odp', None, False, False, False, False), ('public', '지역경제·농정_한국농어촌공사', 'odp', None, False, False, False, False), ('public', '공공행정_장소별 화재발생', 'odp', None, False, False, False, False), ('public', '건설·교통_상수도', 'odp', None, False, False, False, False), ('public', '보건·사회복지_의약품 판매업소', 'odp', None, False, False, False, False), ('public', '지역경제·농정_노동조합', 'odp', None, False, False, False, False), ('public', '공공행정_화재발생 현황', 'odp', None, False, False, False, False), ('public', '환경·위생·청소_쓰레기 봉투 가격', 'odp', None, False, False, False, False), ('public', '환경·위생·청소_쓰레기처리 주요시설', 'odp', None, False, False, False, False), ('public', '보건·사회복지_예방접종실적', 'odp', None, False, False, False, False), ('public', '환경·위생·청소_쓰레기배출량 및 수거량', 'odp', None, False, False, False, False), ('public', '도시·주택·공원_어린이공원', 'odp', None, False, False, False, False), ('public', '지역경제·농정_석유석탄 판매업소', 'odp', None, False, False, False, False), ('public', '건설·교통_차량등록', 'odp', None, False, False, False, False), ('public', '환경·위생·청소_분뇨 처리', 'odp', None, False, False, False, False), ('public', '지역경제·농정_전문점', 'odp', None, False, False, False, False), ('public', '보건·사회복지_국민연금 가입자', 'odp', None, False, False, False, False), ('public', '도시·주택·공원_도시계획구역', 'odp', None, False, False, False, False), ('public', '건설·교통_가로등 및 보안등', 'odp', None, False, False, False, False), ('public', '건설·교통_철도수송', 'odp', None, False, False, False, False), ('public', '보건·사회복지_국가보훈대상자 취업', 'odp', None, False, False, False, False), ('public', '환경·위생·청소_공중위생업소', 'odp', None, False, False, False, False), ('public', '건설·교통_주차장시설', 'odp', None, False, False, False, False), ('public', '공공행정_발화요인별 화재발생', 'odp', None, False, False, False, False), ('public', '토지 및 기후_토지', 'odp', None, False, False, False, False), ('public', '공무원·재정_시공유재산', 'odp', None, False, False, False, False), ('public', '지역경제·농정_식량직물생산', 'odp', None, False, False, False, False), ('public', '환경·위생·청소_청소장비(인력)', 'odp', None, False, False, False, False), ('public', '도시·주택·공원_용도지역별', 'odp', None, False, False, False, False), ('public', '도시·주택·공원_산업단지', 'odp', None, False, False, False, False), ('public', '지역경제·농정_가축', 'odp', None, False, False, False, False), ('public', '환경·위생·청소_청소장비(차량)', 'odp', None, False, False, False, False), ('public', '지역경제·농정_대형마트', 'odp', None, False, False, False, False), ('public', '건설·교통_급수사용량', 'odp', None, False, False, False, False), ('public', '문화·체육·교육_태권도', 'odp', None, False, False, False, False), ('public', '토지 및 기후_기후', 'odp', None, False, False, False, False), ('public', '지역경제·농정_농기계보유', 'odp', None, False, False, False, False), ('public', '지역경제·농정_수원시청 에너지 사용량', 'odp', None, False, False, False, False), ('public', '도시·주택·공원_체육공원', 'odp', None, False, False, False, False)]\n"
     ]
    }
   ],
   "source": [
    "conn = psycopg2.connect(host='192.168.106.6',dbname = 'suwon',user = 'odp',password='odp.123',port = 5432)\n",
    "cur = conn.cursor()\n",
    "cur.execute('select * from pg_tables;')\n",
    "rows = cur.fetchall()\n",
    "print(rows)"
   ]
  }
 ],
 "metadata": {
  "kernelspec": {
   "display_name": "Python 3 (ipykernel)",
   "language": "python",
   "name": "python3"
  },
  "language_info": {
   "codemirror_mode": {
    "name": "ipython",
    "version": 3
   },
   "file_extension": ".py",
   "mimetype": "text/x-python",
   "name": "python",
   "nbconvert_exporter": "python",
   "pygments_lexer": "ipython3",
   "version": "3.8.10"
  },
  "toc": {
   "base_numbering": 1,
   "nav_menu": {},
   "number_sections": true,
   "sideBar": true,
   "skip_h1_title": false,
   "title_cell": "Table of Contents",
   "title_sidebar": "Contents",
   "toc_cell": false,
   "toc_position": {},
   "toc_section_display": true,
   "toc_window_display": false
  }
 },
 "nbformat": 4,
 "nbformat_minor": 5
}
